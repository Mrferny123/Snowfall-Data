{"cells":[{"cellId":"e20525fee1594d1bb9d8cb62c570c35e","cell_type":"code","metadata":{"cell_id":"e20525fee1594d1bb9d8cb62c570c35e","deepnote_cell_type":"code"},"source":"","block_group":"e20525fee1594d1bb9d8cb62c570c35e","execution_count":null,"outputs":[],"outputs_reference":null,"content_dependencies":null}],
        "metadata": {"deepnote_notebook_id":"9df0e1abce704ffc93eeeae5d385e263"},
        "nbformat": "4",
        "nbformat_minor": "0",
        "version": "0"
      }